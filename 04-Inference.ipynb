{
 "cells": [
  {
   "cell_type": "code",
   "execution_count": 71,
   "id": "28d0ae9a-afb5-404e-b5b6-ae39aafa27ca",
   "metadata": {},
   "outputs": [],
   "source": [
    "import joblib\n",
    "import pickle\n",
    "\n",
    "import numpy as np\n",
    "\n",
    "import torch\n",
    "import torch.nn as nn\n",
    "import torch.optim as optim\n",
    "\n",
    "import json"
   ]
  },
  {
   "cell_type": "code",
   "execution_count": 64,
   "id": "f638e2ff-02b6-4a41-85c4-b69862c842df",
   "metadata": {},
   "outputs": [],
   "source": [
    "class MLP(nn.Module):\n",
    "    def __init__(self, input_size, hidden_size, output_size):\n",
    "        super(MLP, self).__init__()\n",
    "        self.fc1 = nn.Linear(input_size, hidden_size)\n",
    "        self.fc2 = nn.Linear(hidden_size, output_size)\n",
    "    \n",
    "    def forward(self, x):\n",
    "        x = torch.relu(self.fc1(x))\n",
    "        x = self.fc2(x)\n",
    "        return x\n",
    "\n",
    "# input_dim = X.shape[1]  # Jumlah fitur\n",
    "input_dim = 36\n",
    "hidden_dim = 64  # Ukuran layer tersembunyi\n",
    "output_dim = 1  # Output tunggal (num_of_harvest)"
   ]
  },
  {
   "cell_type": "code",
   "execution_count": 140,
   "id": "0c123d43-315d-4913-9924-de9b328c2dad",
   "metadata": {},
   "outputs": [],
   "source": [
    "values_dict = {\n",
    " 'average_weight': 6.158,\n",
    " 'evening_do': 5.64,\n",
    " 'evening_temperature': 30.0,\n",
    " 'fasting': 1,\n",
    " 'last_weight': 6.6,\n",
    " 'long_cycle': 62,\n",
    " 'morning_do': 4.97,\n",
    " 'morning_pH': 7.9,\n",
    " 'morning_salinity': 20.68,\n",
    " 'morning_temperature': 30.0,\n",
    " 'size': 177,\n",
    " 'start_weight': 402,\n",
    " 'transparency': 38.0\n",
    "}"
   ]
  },
  {
   "cell_type": "code",
   "execution_count": 141,
   "id": "3939e773-cb4e-4abd-9f73-57124bf8c725",
   "metadata": {},
   "outputs": [],
   "source": [
    "with open('./feature_store/mi_features.json') as file:\n",
    "    mi_feateres = json.load(file)"
   ]
  },
  {
   "cell_type": "code",
   "execution_count": 142,
   "id": "75fe9e36-5ff3-4966-9b58-686eb2c87100",
   "metadata": {},
   "outputs": [],
   "source": [
    "input_mi = dict()"
   ]
  },
  {
   "cell_type": "code",
   "execution_count": 143,
   "id": "be58174a-0715-49b9-ac1e-d99a3d498a7d",
   "metadata": {},
   "outputs": [
    {
     "name": "stdout",
     "output_type": "stream",
     "text": [
      "{'last_weight': 6.6, 'average_weight': 6.158, 'size': 177, 'start_weight last_weight': 2653.2, 'start_weight average_weight': 2475.516, 'last_weight^2': 43.559999999999995, 'last_weight average_weight': 40.6428, 'last_weight fasting': 6.6, 'last_weight morning_temperature': 198.0, 'last_weight evening_temperature': 198.0, 'last_weight morning_do': 32.802, 'last_weight evening_do': 37.224, 'last_weight morning_salinity': 136.488, 'last_weight morning_pH': 52.14, 'last_weight transparency': 250.79999999999998, 'last_weight long_cycle': 409.2, 'average_weight^2': 37.920964000000005, 'average_weight fasting': 6.158, 'average_weight morning_temperature': 184.74, 'average_weight evening_temperature': 184.74, 'average_weight morning_do': 30.60526, 'average_weight evening_do': 34.73112, 'average_weight morning_salinity': 127.34744, 'average_weight morning_pH': 48.6482, 'average_weight transparency': 234.00400000000002, 'average_weight long_cycle': 381.79600000000005, 'fasting size': 177, 'morning_temperature size': 5310.0, 'evening_temperature size': 5310.0, 'morning_do size': 879.6899999999999, 'evening_do size': 998.28, 'morning_salinity size': 3660.36, 'morning_pH size': 1398.3, 'transparency size': 6726.0, 'long_cycle size': 10974, 'size^2': 31329}\n"
     ]
    }
   ],
   "source": [
    "\n",
    "# Fungsi untuk evaluasi ekspresi dari string\n",
    "def evaluate_expression(expr, values):\n",
    "    # Pisahkan elemen-elemen dalam key\n",
    "    elements = expr.split()\n",
    "    # Jika key mengandung '^2'\n",
    "    if '^2' in expr:\n",
    "        base = expr.replace('^2', '')\n",
    "        return values[base] * values[base]\n",
    "    # Jika key mengandung perkalian dua elemen\n",
    "    elif len(elements) == 2:\n",
    "        return values[elements[0]] * values[elements[1]]\n",
    "    # Jika key adalah elemen tunggal\n",
    "    else:\n",
    "        return values[expr]\n",
    "\n",
    "# Buat dictionary baru dengan key dari list dan value hasil evaluasi ekspresi\n",
    "result_dict = {key: evaluate_expression(key, values_dict) for key in mi_feateres}\n",
    "\n",
    "# Tampilkan hasil\n",
    "print(result_dict)\n"
   ]
  },
  {
   "cell_type": "code",
   "execution_count": 144,
   "id": "12e94e74-81ef-4cdf-b84f-c53c4e777a78",
   "metadata": {},
   "outputs": [
    {
     "data": {
      "text/plain": [
       "dict_values([6.6, 6.158, 177, 2653.2, 2475.516, 43.559999999999995, 40.6428, 6.6, 198.0, 198.0, 32.802, 37.224, 136.488, 52.14, 250.79999999999998, 409.2, 37.920964000000005, 6.158, 184.74, 184.74, 30.60526, 34.73112, 127.34744, 48.6482, 234.00400000000002, 381.79600000000005, 177, 5310.0, 5310.0, 879.6899999999999, 998.28, 3660.36, 1398.3, 6726.0, 10974, 31329])"
      ]
     },
     "execution_count": 144,
     "metadata": {},
     "output_type": "execute_result"
    }
   ],
   "source": [
    "result_dict.values()"
   ]
  },
  {
   "cell_type": "code",
   "execution_count": 150,
   "id": "0c1a9f66-7412-4f38-851b-1c0bec0b6ac0",
   "metadata": {},
   "outputs": [
    {
     "data": {
      "text/plain": [
       "{'last_weight': 0.07742998352553541,\n",
       " 'average_weight': 0.07222875970816664,\n",
       " 'size': 0.12391690687106707,\n",
       " 'start_weight last_weight': 0.36722487846227697,\n",
       " 'start_weight average_weight': 0.34263193592425945,\n",
       " 'last_weight^2': 0.006029010714408897,\n",
       " 'last_weight average_weight': 0.0056252459861727885,\n",
       " 'last_weight fasting': 0.1388304585612116,\n",
       " 'last_weight morning_temperature': 0.08152885437343341,\n",
       " 'last_weight evening_temperature': 0.0775077361872742,\n",
       " 'last_weight morning_do': 0.07742998352553541,\n",
       " 'last_weight evening_do': 0.07742650631108927,\n",
       " 'last_weight morning_salinity': 0.06959591515139112,\n",
       " 'last_weight morning_pH': 0.07610039617551391,\n",
       " 'last_weight transparency': 0.07742998352553543,\n",
       " 'last_weight long_cycle': 0.043725841264136936,\n",
       " 'average_weight^2': 0.005248521259433704,\n",
       " 'average_weight fasting': 0.20323432343234324,\n",
       " 'average_weight morning_temperature': 0.07605340558396964,\n",
       " 'average_weight evening_temperature': 0.07230128947074302,\n",
       " 'average_weight morning_do': 0.07222875970816664,\n",
       " 'average_weight evening_do': 0.072225262890037,\n",
       " 'average_weight morning_salinity': 0.06491933651907866,\n",
       " 'average_weight morning_pH': 0.07098884667656045,\n",
       " 'average_weight transparency': 0.07222875970816664,\n",
       " 'average_weight long_cycle': 0.04079481305122561,\n",
       " 'fasting size': 0.13084667160319208,\n",
       " 'morning_temperature size': 0.13333761493574312,\n",
       " 'evening_temperature size': 0.12377747541019131,\n",
       " 'morning_do size': 0.12440096804848126,\n",
       " 'evening_do size': 0.12355526460281915,\n",
       " 'morning_salinity size': 0.11020196115578532,\n",
       " 'morning_pH size': 0.12386123494614025,\n",
       " 'transparency size': 0.12391690687106705,\n",
       " 'long_cycle size': 0.06486345297200447,\n",
       " 'size^2': 0.01705935167331809}"
      ]
     },
     "execution_count": 150,
     "metadata": {},
     "output_type": "execute_result"
    }
   ],
   "source": [
    "# Fungsi untuk normalisasi Min-Max\n",
    "def min_max_normalize(value, min_value, max_value):\n",
    "    return (value - min_value) / (max_value - min_value)\n",
    "\n",
    "# Lakukan normalisasi pada setiap item dalam data_to_normalize\n",
    "normalized_data = {}\n",
    "for key, value in result_dict.items():\n",
    "    min_value = min_max_json[\"min\"][key]\n",
    "    max_value = min_max_json[\"max\"][key]\n",
    "    normalized_data[key] = min_max_normalize(value, min_value, max_value)\n",
    "\n",
    "normalized_data"
   ]
  },
  {
   "cell_type": "code",
   "execution_count": 130,
   "id": "a8bc27ef-dafd-4f87-8622-2f4e48242aea",
   "metadata": {},
   "outputs": [],
   "source": [
    "with open('./min_max_values.json', 'r') as file:\n",
    "    min_max_json = json.load(file)"
   ]
  },
  {
   "cell_type": "code",
   "execution_count": 131,
   "id": "8571e980-b6b7-4ed9-a7f9-0f91a039f53f",
   "metadata": {},
   "outputs": [],
   "source": [
    "result_dict_norm = normalize_dict(result_dict, './min_max_values.json')"
   ]
  },
  {
   "cell_type": "code",
   "execution_count": 145,
   "id": "cdf3e4bd-ed68-41f6-ae02-d2ecf8d7e65e",
   "metadata": {},
   "outputs": [],
   "source": [
    "result_dict_norm  = {\n",
    "  \"last_weight\": 0.0774,\n",
    "  \"average_weight\": 0.0722,\n",
    "  \"size\": 0.1239,\n",
    "  \"start_weight last_weight\": 0.3672,\n",
    "  \"start_weight average_weight\": 0.3426,\n",
    "  \"last_weight^2\": 0.0060,\n",
    "  \"last_weight average_weight\": 0.0056,\n",
    "  \"last_weight fasting\": 0.1388,\n",
    "  \"last_weight morning_temperature\": 0.0815,\n",
    "  \"last_weight evening_temperature\": 0.0775,\n",
    "  \"last_weight morning_do\": 0.0774,\n",
    "  \"last_weight evening_do\": 0.0774,\n",
    "  \"last_weight morning_salinity\": 0.0696,\n",
    "  \"last_weight morning_pH\": 0.0761,\n",
    "  \"last_weight transparency\": 0.0774,\n",
    "  \"last_weight long_cycle\": 0.0437,\n",
    "  \"average_weight^2\": 0.0052,\n",
    "  \"average_weight fasting\": 0.2032,\n",
    "  \"average_weight morning_temperature\": 0.0761,\n",
    "  \"average_weight evening_temperature\": 0.0723,\n",
    "  \"average_weight morning_do\": 0.0722,\n",
    "  \"average_weight evening_do\": 0.0722,\n",
    "  \"average_weight morning_salinity\": 0.0649,\n",
    "  \"average_weight morning_pH\": 0.0710,\n",
    "  \"average_weight transparency\": 0.0722,\n",
    "  \"average_weight long_cycle\": 0.0408,\n",
    "  \"fasting size\": 0.1308,\n",
    "  \"morning_temperature size\": 0.1333,\n",
    "  \"evening_temperature size\": 0.1238,\n",
    "  \"morning_do size\": 0.1244,\n",
    "  \"evening_do size\": 0.1236,\n",
    "  \"morning_salinity size\": 0.1102,\n",
    "  \"morning_pH size\": 0.1239,\n",
    "  \"transparency size\": 0.1239,\n",
    "  \"long_cycle size\": 0.0649,\n",
    "  \"size^2\": 0.0171\n",
    "}"
   ]
  },
  {
   "cell_type": "code",
   "execution_count": 146,
   "id": "3feb04d0-681b-40de-a4ce-d20b2044b85e",
   "metadata": {},
   "outputs": [],
   "source": [
    "# Muat model menggunakan pickle\n",
    "with open('base_model.pkl', 'rb') as file:\n",
    "    loaded_model = pickle.load(file)"
   ]
  },
  {
   "cell_type": "code",
   "execution_count": 147,
   "id": "2626de16-7aac-4f74-a15f-746323fedc82",
   "metadata": {},
   "outputs": [],
   "source": [
    "inputs = list(result_dict_norm.values())"
   ]
  },
  {
   "cell_type": "code",
   "execution_count": 148,
   "id": "5c6b427e-837a-48bb-8e43-efcd09da5f29",
   "metadata": {},
   "outputs": [],
   "source": [
    "with torch.no_grad():\n",
    "    prediction_normalized = loaded_model(torch.tensor(inputs))\n",
    "    y_pred = prediction_normalized.numpy()"
   ]
  },
  {
   "cell_type": "code",
   "execution_count": 149,
   "id": "2ecd9a5c-7486-4b2d-b5f3-879268e07df4",
   "metadata": {},
   "outputs": [
    {
     "data": {
      "text/plain": [
       "array([0.22942989], dtype=float32)"
      ]
     },
     "execution_count": 149,
     "metadata": {},
     "output_type": "execute_result"
    }
   ],
   "source": [
    "y_pred"
   ]
  }
 ],
 "metadata": {
  "kernelspec": {
   "display_name": "Python 3 (ipykernel)",
   "language": "python",
   "name": "python3"
  },
  "language_info": {
   "codemirror_mode": {
    "name": "ipython",
    "version": 3
   },
   "file_extension": ".py",
   "mimetype": "text/x-python",
   "name": "python",
   "nbconvert_exporter": "python",
   "pygments_lexer": "ipython3",
   "version": "3.10.14"
  }
 },
 "nbformat": 4,
 "nbformat_minor": 5
}
