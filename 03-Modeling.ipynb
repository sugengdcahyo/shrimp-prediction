{
 "cells": [
  {
   "cell_type": "code",
   "execution_count": 1,
   "id": "9b261c57-ebcc-4d5f-a395-20b8fdf01f18",
   "metadata": {},
   "outputs": [],
   "source": [
    "import pandas as pd\n",
    "import torch\n",
    "import torch.nn as nn\n",
    "import torch.optim as optim\n",
    "import torch.nn.functional as F\n",
    "from torch.utils.data import DataLoader, TensorDataset, random_split"
   ]
  },
  {
   "cell_type": "code",
   "execution_count": 2,
   "id": "a9cec19a-3df7-47be-a2df-8343cb716e82",
   "metadata": {},
   "outputs": [],
   "source": [
    "data = pd.read_csv('./feature_store/polynomial-features.csv')"
   ]
  },
  {
   "cell_type": "code",
   "execution_count": 4,
   "id": "4f6bf1e8-eed5-4d7b-9242-6ab13cfd2bf0",
   "metadata": {},
   "outputs": [],
   "source": [
    "features = data.drop(columns=['average_adg']).values\n",
    "target = data['average_adg'].values"
   ]
  },
  {
   "cell_type": "code",
   "execution_count": 5,
   "id": "5fa303d8-daae-4348-89e6-e964891db3cb",
   "metadata": {},
   "outputs": [],
   "source": [
    "# konsersi ke tensor\n",
    "features_tensor = torch.tensor(features, dtype=torch.float32)\n",
    "target_tensor   = torch.tensor(target, dtype=torch.float32).unsqueeze(1)"
   ]
  },
  {
   "cell_type": "code",
   "execution_count": 6,
   "id": "8ee1169b-9fb6-4d26-b23d-7bb2f2fd1e3d",
   "metadata": {},
   "outputs": [],
   "source": [
    "# 2. Preprocessing Data\n",
    "dataset = TensorDataset(features_tensor, target_tensor)\n",
    "train_size = int(0.8 * len(dataset))\n",
    "test_size = len(dataset) - train_size\n",
    "train_dataset, test_dataset = random_split(dataset, [train_size, test_size])\n",
    "\n",
    "train_loader = DataLoader(train_dataset, batch_size=16, shuffle=True)\n",
    "test_loader = DataLoader(test_dataset, batch_size=16, shuffle=False)\n",
    "\n"
   ]
  },
  {
   "cell_type": "code",
   "execution_count": 11,
   "id": "2e00657a-3c8e-4962-a386-f9b9c268e7dc",
   "metadata": {},
   "outputs": [
    {
     "data": {
      "text/plain": [
       "<torch.utils.data.dataset.TensorDataset at 0x120f09900>"
      ]
     },
     "execution_count": 11,
     "metadata": {},
     "output_type": "execute_result"
    }
   ],
   "source": [
    "dataset"
   ]
  },
  {
   "cell_type": "code",
   "execution_count": 7,
   "id": "a1f06042-d411-4add-bd56-81a2113680a7",
   "metadata": {},
   "outputs": [],
   "source": [
    "# 3. Definisikan Model MLP\n",
    "class MLP(nn.Module):\n",
    "    def __init__(self, input_size, hidden_size, output_size):\n",
    "        super(MLP, self).__init__()\n",
    "        self.fc1 = nn.Linear(input_size, hidden_size)\n",
    "        self.fc2 = nn.Linear(hidden_size, output_size)\n",
    "    \n",
    "    def forward(self, x):\n",
    "        x = torch.relu(self.fc1(x))\n",
    "        x = self.fc2(x)\n",
    "        return x\n",
    "\n",
    "input_size = features.shape[1]  # Jumlah fitur\n",
    "hidden_size = 64  # Ukuran layer tersembunyi\n",
    "output_size = 1  # Output tunggal (num_of_harvest)\n",
    "\n",
    "model = MLP(input_size, hidden_size, output_size)\n"
   ]
  },
  {
   "cell_type": "code",
   "execution_count": null,
   "id": "676bbf4f-3774-4f0e-8f10-fbe5e4b0b661",
   "metadata": {},
   "outputs": [],
   "source": []
  },
  {
   "cell_type": "code",
   "execution_count": 8,
   "id": "77464edf-49c7-49ae-aa8b-05b66cfee54e",
   "metadata": {},
   "outputs": [],
   "source": [
    "# 4. Definisikan Loss Function dan Optimizer\n",
    "criterion = nn.MSELoss()  # Menggunakan MSE Loss untuk regresi\n",
    "optimizer = optim.Adam(model.parameters(), lr=0.001)"
   ]
  },
  {
   "cell_type": "code",
   "execution_count": 9,
   "id": "8080f2e3-633d-4faf-a5aa-36469bf33245",
   "metadata": {},
   "outputs": [
    {
     "name": "stdout",
     "output_type": "stream",
     "text": [
      "Epoch [10/100], Loss: nan\n",
      "Epoch [20/100], Loss: nan\n",
      "Epoch [30/100], Loss: nan\n",
      "Epoch [40/100], Loss: nan\n",
      "Epoch [50/100], Loss: nan\n",
      "Epoch [60/100], Loss: nan\n",
      "Epoch [70/100], Loss: nan\n",
      "Epoch [80/100], Loss: nan\n",
      "Epoch [90/100], Loss: nan\n",
      "Epoch [100/100], Loss: nan\n"
     ]
    }
   ],
   "source": [
    "# 5. Latih Model\n",
    "num_epochs = 100\n",
    "for epoch in range(num_epochs):\n",
    "    model.train()\n",
    "    for batch_X, batch_y in train_loader:\n",
    "        outputs = model(batch_X)\n",
    "        loss = criterion(outputs, batch_y)\n",
    "        \n",
    "        optimizer.zero_grad()\n",
    "        loss.backward()\n",
    "        optimizer.step()\n",
    "    \n",
    "    if (epoch+1) % 10 == 0:\n",
    "        print(f'Epoch [{epoch+1}/{num_epochs}], Loss: {loss.item():.4f}')\n"
   ]
  },
  {
   "cell_type": "code",
   "execution_count": 14,
   "id": "6183f281-0a80-407a-9783-299124188a34",
   "metadata": {},
   "outputs": [
    {
     "name": "stdout",
     "output_type": "stream",
     "text": [
      "Model saved to ./mlruns/models/model-20240604-185503.pth\n"
     ]
    }
   ],
   "source": [
    "# Saving model\n",
    "import datetime\n",
    "\n",
    "timestamp = datetime.datetime.now().strftime(\"%Y%m%d-%H%M%S\")\n",
    "model_save_path = f\"./mlruns/models/model-{timestamp}.pth\"\n",
    "\n",
    "# Simpan model ke file dengan nama timestamped\n",
    "torch.save(model.state_dict(), model_save_path)\n",
    "print(f'Model saved to {model_save_path}')\n"
   ]
  },
  {
   "cell_type": "code",
   "execution_count": 10,
   "id": "bdf94eb8-7f22-4a79-a248-69b59012fcc0",
   "metadata": {},
   "outputs": [
    {
     "name": "stdout",
     "output_type": "stream",
     "text": [
      "Average Test Loss: nan\n"
     ]
    }
   ],
   "source": [
    "# 6. Evaluasi Model\n",
    "model.eval()\n",
    "with torch.no_grad():\n",
    "    test_loss = 0\n",
    "    for batch_X, batch_y in test_loader:\n",
    "        outputs = model(batch_X)\n",
    "        loss = criterion(outputs, batch_y)\n",
    "        test_loss += loss.item()\n",
    "    \n",
    "    avg_test_loss = test_loss / len(test_loader)\n",
    "    print(f'Average Test Loss: {avg_test_loss:.4f}')\n"
   ]
  },
  {
   "cell_type": "code",
   "execution_count": null,
   "id": "e48c5705-7a69-4c02-9112-f1568cf81ba5",
   "metadata": {},
   "outputs": [],
   "source": []
  },
  {
   "cell_type": "code",
   "execution_count": null,
   "id": "3d21bd0b-3ec7-470d-a39c-3f938fa4dc99",
   "metadata": {},
   "outputs": [],
   "source": []
  }
 ],
 "metadata": {
  "kernelspec": {
   "display_name": "Python 3 (ipykernel)",
   "language": "python",
   "name": "python3"
  },
  "language_info": {
   "codemirror_mode": {
    "name": "ipython",
    "version": 3
   },
   "file_extension": ".py",
   "mimetype": "text/x-python",
   "name": "python",
   "nbconvert_exporter": "python",
   "pygments_lexer": "ipython3",
   "version": "3.10.14"
  }
 },
 "nbformat": 4,
 "nbformat_minor": 5
}
